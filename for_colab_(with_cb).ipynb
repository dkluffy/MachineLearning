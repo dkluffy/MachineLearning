{
  "nbformat": 4,
  "nbformat_minor": 0,
  "metadata": {
    "kernelspec": {
      "name": "python3",
      "display_name": "Python 3"
    },
    "language_info": {
      "pygments_lexer": "ipython3",
      "nbconvert_exporter": "python",
      "version": "3.6.4",
      "file_extension": ".py",
      "codemirror_mode": {
        "name": "ipython",
        "version": 3
      },
      "name": "python",
      "mimetype": "text/x-python"
    },
    "colab": {
      "name": "for_colab (with_cb).ipynb",
      "provenance": [],
      "collapsed_sections": [],
      "toc_visible": true,
      "include_colab_link": true
    },
    "accelerator": "GPU"
  },
  "cells": [
    {
      "cell_type": "markdown",
      "metadata": {
        "id": "view-in-github",
        "colab_type": "text"
      },
      "source": [
        "<a href=\"https://colab.research.google.com/github/dkluffy/MachineLearning/blob/master/for_colab_(with_cb).ipynb\" target=\"_parent\"><img src=\"https://colab.research.google.com/assets/colab-badge.svg\" alt=\"Open In Colab\"/></a>"
      ]
    },
    {
      "cell_type": "code",
      "metadata": {
        "id": "DEUTLMUlYz2s",
        "colab_type": "code",
        "colab": {}
      },
      "source": [
        "%tensorflow_version 2.x"
      ],
      "execution_count": 0,
      "outputs": []
    },
    {
      "cell_type": "code",
      "metadata": {
        "_uuid": "4bce071d-67a6-4a39-a15b-46d47b4ea9b3",
        "_cell_guid": "00a85d4b-480f-4a84-a5c1-ec37e320b503",
        "trusted": true,
        "id": "jrBivSiPYyJK",
        "colab_type": "code",
        "colab": {}
      },
      "source": [
        "import collections\n",
        "import pickle\n",
        "\n",
        "import os\n",
        "import numpy as np\n",
        "import pandas as pd\n",
        "\n",
        "import tensorflow as tf"
      ],
      "execution_count": 0,
      "outputs": []
    },
    {
      "cell_type": "code",
      "metadata": {
        "trusted": true,
        "id": "DzADFuZFYyJR",
        "colab_type": "code",
        "outputId": "50411d88-e94b-4582-a173-e8d2bf5470e9",
        "colab": {
          "base_uri": "https://localhost:8080/",
          "height": 34
        }
      },
      "source": [
        "tf.config.experimental.list_physical_devices('GPU') "
      ],
      "execution_count": 47,
      "outputs": [
        {
          "output_type": "execute_result",
          "data": {
            "text/plain": [
              "[PhysicalDevice(name='/physical_device:GPU:0', device_type='GPU')]"
            ]
          },
          "metadata": {
            "tags": []
          },
          "execution_count": 47
        }
      ]
    },
    {
      "cell_type": "markdown",
      "metadata": {
        "id": "4rClCTclYyJX",
        "colab_type": "text"
      },
      "source": [
        "# Utils"
      ]
    },
    {
      "cell_type": "code",
      "metadata": {
        "_uuid": "43344a91-c191-445a-944a-621988e75290",
        "_cell_guid": "af4a6227-5df1-49b9-aab5-239b307d954d",
        "trusted": true,
        "id": "83oc58ywYyJY",
        "colab_type": "code",
        "colab": {}
      },
      "source": [
        "image_size=(54,128)\n",
        "def savepickle(fname,*args):\n",
        "    with open(fname+\"_pk\",\"wb\") as f:\n",
        "        pickle.dump(args,f)\n",
        "        \n",
        "def loadpickle(fname):\n",
        "    with open(fname,\"rb\") as f:\n",
        "        obj = pickle.load(f)\n",
        "        \n",
        "    return obj\n",
        "\n",
        "def reformat(x):\n",
        "    \"\"\"\n",
        "    input: x = array([[array([5.]), 1])\n",
        "    output: x = array([5,0,0,0,0])\n",
        "    \"\"\"\n",
        "    x = list(x[0])\n",
        "    #只截取5个，因为模型只输出5个\n",
        "    x = x[:5]\n",
        "    p = len(x)\n",
        "    x = x + [0]*(5-p)\n",
        "    return np.array(x)\n",
        "def load_data_len_only(rootdir,pk=\"digitStruct.mat_pk\",num_only=True):\n",
        "    #pk_path = os.path.join(rootdir,pk)\n",
        "    image_names,labels = loadpickle(pk)\n",
        "    \n",
        "    labels_x_len = labels[:,-1:] \n",
        "    labels_x_len[labels_x_len>5]=6\n",
        "    labels_x_len = labels_x_len.astype(float)\n",
        "    labels_x_len = tf.keras.utils.to_categorical(labels_x_len,7)\n",
        "    image_names = np.array([os.path.join(rootdir,x) for x in image_names])\n",
        "    return image_names,labels_x_len\n",
        "\n",
        "def load_data(rootdir,pk=\"digitStruct.mat_pk\",num_only=True):\n",
        "    #pk_path = os.path.join(rootdir,pk)\n",
        "    image_names,labels = loadpickle(pk)\n",
        "    \n",
        "    labels_x_len = labels[:,-1:] \n",
        "    labels_x_len[labels_x_len>5]=6\n",
        "    labels_x_len = labels_x_len.astype(float)\n",
        "    labels_num = np.apply_along_axis(reformat,1,labels)\n",
        "    labels = np.concatenate((labels_x_len,labels_num),axis=1)\n",
        "    image_names = np.array([os.path.join(rootdir,x) for x in image_names])\n",
        "    if num_only:\n",
        "        labels_num = tf.keras.utils.to_categorical(labels_num,11)\n",
        "        return image_names,labels_num\n",
        "\n",
        "    return image_names,labels\n",
        "\n",
        "def to_df(x,y):\n",
        "    xdf = pd.DataFrame(x,columns=[\"filename\"])\n",
        "    #这样有问题，应该 dataset = pd.DataFrame({'Column1': data[:, 0], 'Column2': data[:, 1]})\n",
        "    ydf = pd.DataFrame(y,columns=[\"len\",\"1\",\"2\",\"3\",\"4\",\"5\"])\n",
        "    ydf = ydf.astype(int)\n",
        "    \n",
        "    return pd.concat([xdf,ydf],axis=1)\n",
        "\n",
        "def to_one_hot(n_arr,cls_num):\n",
        "    onehot = np.zeros((n_arr.shape[1],cls_num))\n",
        "    onehot[np.arange(n_arr.shape[1]),n_arr]=1\n",
        "    return onehot\n",
        "\n",
        "\n",
        "def preprocess_image(image):\n",
        "    image = tf.image.decode_jpeg(image, channels=3)\n",
        "    image = tf.image.resize(image, image_size)\n",
        "    image /= 255.0  # normalize to [0,1] range\n",
        "    image -= tf.math.reduce_mean(image,keepdims=True)\n",
        "    image /=tf.math.reduce_std(image,keepdims=True)\n",
        "    return image\n",
        "\n",
        "def load_and_preprocess_image(path):\n",
        "    image = tf.io.read_file(path)\n",
        "    return preprocess_image(image)\n",
        "\n",
        "def datset_gen(images,lables,batch_size=16,buffer_size=1000):\n",
        "\n",
        "    AUTOTUNE = tf.data.experimental.AUTOTUNE\n",
        "    path_ds = tf.data.Dataset.from_tensor_slices(images)\n",
        "    image_ds = path_ds.map(load_and_preprocess_image, num_parallel_calls=AUTOTUNE)\n",
        "    label_ds = tf.data.Dataset.from_tensor_slices(lables)\n",
        "    img_lab_ds = tf.data.Dataset.zip((image_ds, label_ds))\n",
        "    img_lab_ds = img_lab_ds.apply(tf.data.experimental.ignore_errors())\n",
        "\n",
        "    return img_lab_ds.shuffle(buffer_size=buffer_size).repeat().batch(batch_size)"
      ],
      "execution_count": 0,
      "outputs": []
    },
    {
      "cell_type": "markdown",
      "metadata": {
        "id": "IYpvXMNWYyJb",
        "colab_type": "text"
      },
      "source": [
        "## Models"
      ]
    },
    {
      "cell_type": "code",
      "metadata": {
        "trusted": true,
        "id": "YGIBqNcQYyJc",
        "colab_type": "code",
        "colab": {}
      },
      "source": [
        "import matplotlib.pyplot as plt\n",
        "\n",
        "def plt_images(x,ylab=None,is_path=True,num=8):\n",
        "    indices = np.arange(x.shape[0])\n",
        "    n=1\n",
        "    for i in np.random.choice(indices,num):\n",
        "        plt.subplot(4,4,n)\n",
        "        img = x[i]\n",
        "        if is_path:\n",
        "            img = tf.io.read_file(img)\n",
        "            img = tf.image.decode_jpeg(img, channels=3)\n",
        "         \n",
        "        plt.imshow(img)\n",
        "        #plt.axis(\"off\")\n",
        "        n+=2\n",
        "        if ylab is not None:\n",
        "            yl = str(ylab[i])\n",
        "            xs = str(img.shape)\n",
        "            plt.text(0,-10,\"\".join((yl,xs)),ha=\"left\", va=\"bottom\", size=\"medium\",color=\"red\")\n",
        "    plt.show()\n"
      ],
      "execution_count": 0,
      "outputs": []
    },
    {
      "cell_type": "code",
      "metadata": {
        "trusted": true,
        "id": "_Ng77JnvYyJf",
        "colab_type": "code",
        "colab": {}
      },
      "source": [
        "import tensorflow as tf\n",
        "from tensorflow import keras\n",
        "from functools import partial\n",
        "import numpy as np \n",
        "from tensorflow.keras.layers import Flatten,Dense,Activation,MaxPool2D,GlobalAvgPool2D,BatchNormalization\n",
        "from tensorflow.keras.layers import Input,Conv2D,Lambda,Dropout\n",
        "from tensorflow.keras import Model\n",
        "\n",
        "\n",
        "DefaultConv2D = partial(keras.layers.Conv2D, kernel_size=3, strides=1,kernel_initializer='random_uniform',\n",
        "                        padding=\"SAME\", use_bias=False)\n",
        "\n"
      ],
      "execution_count": 0,
      "outputs": []
    },
    {
      "cell_type": "code",
      "metadata": {
        "_uuid": "7d0e3a2f-5a92-42e7-8753-d7124860e01b",
        "_cell_guid": "77df92b0-e5e0-4748-b576-dd38fd1cdbd1",
        "trusted": true,
        "id": "s5KqKcqtYyJi",
        "colab_type": "code",
        "colab": {}
      },
      "source": [
        "def test_cnn(input_):\n",
        "    #image_in_vision = Input(shape=(image_size[0],image_size[1],3))\n",
        "    x = BatchNormalization()(input_)\n",
        "    x = DefaultConv2D(64, strides=1, activation='relu')(x)\n",
        "    pre_filter = 64\n",
        "    for filter in [64]*1+[128]*2+[256]*2 :\n",
        "        strides = 1 if filter == pre_filter else 2\n",
        "        x = DefaultConv2D(filter, strides=strides, activation='relu')(x)\n",
        "        x = BatchNormalization()(x)\n",
        "        x = MaxPool2D(pool_size=(2,2), padding=\"SAME\")(x)\n",
        "        #x = Dropout(0.2)(x)\n",
        "   \n",
        "    x = Flatten()(x)\n",
        "    x = Dense(1024, activation='relu')(x)\n",
        "    x = Dropout(0.2)(x)\n",
        "    #x = BatchNormalization()(x)\n",
        "    #x = Dense(1024, activation='relu')(x)\n",
        "    h = BatchNormalization()(x)\n",
        "\n",
        "    return h\n",
        "def svhn_model_1(input_shape=[54,128,3],N=5,class_num=11):\n",
        "    X=Input(shape=input_shape)\n",
        "    y = test_cnn(X)\n",
        "    #y = Dense(192,activation=\"relu\",kernel_initializer='he_normal')(y)\n",
        "    y = Dense(512,activation=\"relu\")(y)\n",
        "    \n",
        "    S = Dense(N+2,activation=\"softmax\")(y)\n",
        "    return Model(inputs=X,outputs=S)\n",
        "\n",
        "def svhn_model_simple(input_shape=[54,128,3],N=5,class_num=11):\n",
        "    X=Input(shape=input_shape)\n",
        "    y = test_cnn(X)\n",
        "    #y = Dense(192,activation=\"relu\",kernel_initializer='he_normal')(y)\n",
        "    #y = Dense(512,activation=\"relu\",kernel_initializer='he_normal')(y)\n",
        "    #S = [ Dense(class_num,activation=\"softmax\",kernel_initializer='he_normal',name=\"cls_\".join(str(n)))(y) for n in range(N) ]\n",
        "    S = []\n",
        "    for n in range(N):\n",
        "        sn = Dense(512,activation=\"relu\",kernel_initializer='he_normal')(y)\n",
        "        sn = Dense(512,activation=\"relu\",kernel_initializer='he_normal')(sn)\n",
        "        sn = Dense(class_num,activation=\"softmax\",kernel_initializer='he_normal',name=\"cls_\".join(str(n)))(sn)\n",
        "        S.append(sn)\n",
        "    S = tf.stack(S,axis=1)\n",
        "    #S = Dense(N+2,activation=\"softmax\",kernel_initializer='he_normal')(y)\n",
        "    return Model(inputs=X,outputs=S)"
      ],
      "execution_count": 0,
      "outputs": []
    },
    {
      "cell_type": "markdown",
      "metadata": {
        "_uuid": "dd3a8be7-effd-491f-974e-5a911b6ba7bb",
        "_cell_guid": "b18c2be2-a8c7-432e-8237-c9a00bf1e82c",
        "trusted": true,
        "id": "vHJFrGDRYyJl",
        "colab_type": "text"
      },
      "source": [
        "## Train"
      ]
    },
    {
      "cell_type": "code",
      "metadata": {
        "_uuid": "9a9addbc-cf1d-46a3-a716-3d83681d4ec8",
        "_cell_guid": "190f4337-e736-43a2-86a8-ede993f56743",
        "trusted": true,
        "id": "RUWGWNVWYyJm",
        "colab_type": "code",
        "colab": {}
      },
      "source": [
        "root_path = \"./\"\n",
        "train_path =\"/content/drive/My Drive/svhn_datasets/pks/train_digitStruct.mat_pk\"\n",
        "test_path =  \"/content/drive/My Drive/svhn_datasets/pks/test_digitStruct.mat_pk\"\n",
        "extra_path = \"/content/drive/My Drive/svhn_datasets/pks/extra_digitStruct.mat_pk\"\n",
        "is_num_only=True\n",
        "X_test,y_test = load_data_len_only(root_path+\"test/test/\",test_path,num_only=is_num_only)\n",
        "X_train,y_train = load_data_len_only(root_path+\"train/train/\",train_path,num_only=is_num_only)\n",
        "X_extra,y_extra = load_data_len_only(root_path+\"extra/extra/\",extra_path,num_only=is_num_only)\n",
        "\n",
        "X_train = np.concatenate([X_train,X_extra])\n",
        "y_train = np.concatenate([y_train,y_extra])\n",
        "#y_train = y_train.reshape((-1,5,1))\n",
        "#y_test = y_test.reshape((-1,5,1))"
      ],
      "execution_count": 0,
      "outputs": []
    },
    {
      "cell_type": "code",
      "metadata": {
        "trusted": true,
        "id": "Ep7Ys6euYyJp",
        "colab_type": "code",
        "outputId": "d38f6a0f-3273-4df2-e3ce-5a04846c5cf9",
        "colab": {
          "base_uri": "https://localhost:8080/",
          "height": 34
        }
      },
      "source": [
        "y_train.shape"
      ],
      "execution_count": 87,
      "outputs": [
        {
          "output_type": "execute_result",
          "data": {
            "text/plain": [
              "(235755, 7)"
            ]
          },
          "metadata": {
            "tags": []
          },
          "execution_count": 87
        }
      ]
    },
    {
      "cell_type": "code",
      "metadata": {
        "_uuid": "c5ae45b8-2362-482e-95c4-34d62ff3e9a8",
        "_cell_guid": "98baecc8-37e3-4e14-9207-200d6d65c791",
        "trusted": true,
        "id": "80QFT4onYyJs",
        "colab_type": "code",
        "colab": {}
      },
      "source": [
        "batch_size  = 16\n",
        "ds_train = datset_gen(X_train,y_train,batch_size=batch_size,buffer_size=1000)\n",
        "ds_test = datset_gen(X_test,y_test,batch_size=batch_size,buffer_size=1000)"
      ],
      "execution_count": 0,
      "outputs": []
    },
    {
      "cell_type": "code",
      "metadata": {
        "trusted": true,
        "id": "5XYjNb57YyJv",
        "colab_type": "code",
        "outputId": "e0273d34-f30e-4f6d-b6b9-38914ddcaf1c",
        "colab": {
          "base_uri": "https://localhost:8080/",
          "height": 34
        }
      },
      "source": [
        "print(X_train.shape,y_train.shape)"
      ],
      "execution_count": 89,
      "outputs": [
        {
          "output_type": "stream",
          "text": [
            "(235755,) (235755, 7)\n"
          ],
          "name": "stdout"
        }
      ]
    },
    {
      "cell_type": "code",
      "metadata": {
        "id": "05yLwtxEt1pP",
        "colab_type": "code",
        "colab": {}
      },
      "source": [
        "#!ls /content/drive/My\\ Drive/svhn_datasets/train/train/10.png"
      ],
      "execution_count": 0,
      "outputs": []
    },
    {
      "cell_type": "code",
      "metadata": {
        "trusted": true,
        "id": "co6E7h4GYyJy",
        "colab_type": "code",
        "outputId": "6ab16270-ef2f-4a4d-de86-e586f0b2904f",
        "colab": {
          "base_uri": "https://localhost:8080/",
          "height": 390
        }
      },
      "source": [
        "for x,y in ds_train.take(1):\n",
        "    plt_images(x,None,False)\n",
        "    \n",
        "    "
      ],
      "execution_count": 91,
      "outputs": [
        {
          "output_type": "stream",
          "text": [
            "Clipping input data to the valid range for imshow with RGB data ([0..1] for floats or [0..255] for integers).\n",
            "Clipping input data to the valid range for imshow with RGB data ([0..1] for floats or [0..255] for integers).\n",
            "Clipping input data to the valid range for imshow with RGB data ([0..1] for floats or [0..255] for integers).\n",
            "Clipping input data to the valid range for imshow with RGB data ([0..1] for floats or [0..255] for integers).\n",
            "Clipping input data to the valid range for imshow with RGB data ([0..1] for floats or [0..255] for integers).\n",
            "Clipping input data to the valid range for imshow with RGB data ([0..1] for floats or [0..255] for integers).\n",
            "Clipping input data to the valid range for imshow with RGB data ([0..1] for floats or [0..255] for integers).\n",
            "Clipping input data to the valid range for imshow with RGB data ([0..1] for floats or [0..255] for integers).\n"
          ],
          "name": "stderr"
        },
        {
          "output_type": "display_data",
          "data": {
            "image/png": "[encoded data removed]",
            "text/plain": [
              "<Figure size 432x288 with 8 Axes>"
            ]
          },
          "metadata": {
            "tags": []
          }
        }
      ]
    },
    {
      "cell_type": "code",
      "metadata": {
        "_uuid": "ef3d113a-2072-4dce-8423-7d5200d2cf86",
        "_cell_guid": "5986ea17-4ba9-480f-bb65-20bcf5c19edd",
        "trusted": true,
        "id": "7oWF4lbUYyJ1",
        "colab_type": "code",
        "colab": {}
      },
      "source": [
        "from datetime import datetime\n",
        "drive_path = \"/content/drive/My Drive/svhn_datasets\"\n",
        "run_logdir = drive_path+\"tb_logs\"\n",
        "model_save_file = drive_path+\"model_chk_%s.h5\" % datetime.now().isoformat(timespec='minutes')\n",
        "tensorboard_cb = keras.callbacks.TensorBoard(\"run_logdir\")\n",
        "checkpoint_cb = keras.callbacks.ModelCheckpoint(filepath=model_save_file, verbose=1)"
      ],
      "execution_count": 0,
      "outputs": []
    },
    {
      "cell_type": "code",
      "metadata": {
        "_uuid": "43983914-208e-487c-b9e5-e0f4bb47de00",
        "_cell_guid": "fb5242b6-c193-4f15-ae84-35db5bf52857",
        "trusted": true,
        "id": "aCYIlhgUYyJ4",
        "colab_type": "code",
        "colab": {}
      },
      "source": [
        "\n",
        "# loss_cce = tf.keras.losses.CategoricalCrossentropy(from_logits=True)\n",
        "# #loss_cce = tf.keras.losses.SparseCategoricalCrossentropy(from_logits=True)\n",
        "# model = svhn_model_1(input_shape=[54,128,3])\n",
        "# optimizer = tf.keras.optimizers.SGD(learning_rate=0.01)\n"
      ],
      "execution_count": 0,
      "outputs": []
    },
    {
      "cell_type": "code",
      "metadata": {
        "id": "O_M5XUtl6PTU",
        "colab_type": "code",
        "colab": {}
      },
      "source": [
        "# model.compile(optimizer=optimizer,\n",
        "#               loss=loss_cce,\n",
        "#               metrics=['accuracy'])\n",
        "# model.summary()"
      ],
      "execution_count": 0,
      "outputs": []
    },
    {
      "cell_type": "code",
      "metadata": {
        "id": "GrEuQoJN6UQd",
        "colab_type": "code",
        "colab": {}
      },
      "source": [
        "model = tf.keras.models.load_model(\"/content/drive/My Drive/svhn_datasets/checkpoint_chk.h5（副本）\")"
      ],
      "execution_count": 0,
      "outputs": []
    },
    {
      "cell_type": "code",
      "metadata": {
        "_uuid": "6f25534f-4f74-489b-884c-45ed273aa39d",
        "_cell_guid": "5a3fc25f-2383-4900-8880-1c8c42fff7e0",
        "trusted": true,
        "id": "tcPAMccuYyJ7",
        "colab_type": "code",
        "outputId": "a14d5479-c723-4271-dade-c54ff68d14b2",
        "colab": {
          "base_uri": "https://localhost:8080/",
          "height": 69
        }
      },
      "source": [
        "num_epoches=15\n",
        "def scheduler(epoch):\n",
        "    \n",
        "    if epoch < 5:\n",
        "        return 0.01\n",
        "    if epoch < 10:\n",
        "        return 0.001\n",
        "    return 0.001 * tf.math.exp(0.1 * (10 - epoch))\n",
        "\n",
        "lr_cb = tf.keras.callbacks.LearningRateScheduler(scheduler)\n",
        "with tf.device(\"/GPU:0\"):\n",
        "    history = model.fit_generator(ds_train,\n",
        "                steps_per_epoch=X_train.shape[0]//batch_size,\n",
        "                epochs=num_epoches,\n",
        "                validation_data=ds_test,\n",
        "                validation_steps=100,callbacks=[lr_cb,tensorboard_cb,checkpoint_cb])"
      ],
      "execution_count": 0,
      "outputs": [
        {
          "output_type": "stream",
          "text": [
            "Train for 14734 steps, validate for 100 steps\n",
            "Epoch 1/15\n",
            "10302/14734 [===================>..........] - ETA: 1:10 - loss: 1.3657 - accuracy: 0.7993"
          ],
          "name": "stdout"
        }
      ]
    },
    {
      "cell_type": "code",
      "metadata": {
        "_uuid": "a06bc9fd-497b-4815-b67c-2a91c83b19bb",
        "_cell_guid": "620865d8-3c32-4ec1-a069-ce763a658666",
        "trusted": true,
        "id": "j74J79bHYyJ-",
        "colab_type": "code",
        "colab": {}
      },
      "source": [
        "weights = model.get_weights()"
      ],
      "execution_count": 0,
      "outputs": []
    },
    {
      "cell_type": "code",
      "metadata": {
        "_uuid": "b2d2d6e2-0b2f-4e2a-a8e8-e85ecba85718",
        "_cell_guid": "6a725be4-b4ae-4e83-9310-ac855efbbd9c",
        "trusted": true,
        "id": "0Oy_mDeHYyKA",
        "colab_type": "code",
        "colab": {}
      },
      "source": [
        "#model.save(\"model.cnnorg.h5\")\n",
        "savepickle(\"weitgh_only.h5\",weights)\n",
        "\n",
        "#-- visualize --\n",
        "import matplotlib.pyplot as plt\n",
        "\n",
        "#import matplotlib as mpl\n",
        "#mpl.rcParams['figure.figsize'] = (8, 6)\n",
        "#mpl.rcParams['axes.grid'] = False\n",
        "\n",
        "acc = history.history['accuracy']\n",
        "val_acc = history.history['val_accuracy']\n",
        "\n",
        "loss = history.history['loss']\n",
        "val_loss = history.history['val_loss']\n",
        "\n",
        "epochs_range = range(num_epoches)\n",
        "\n",
        "plt.figure(figsize=(8, 8))\n",
        "plt.subplot(1, 2, 1)\n",
        "plt.plot(epochs_range, acc, label='Training Accuracy')\n",
        "plt.plot(epochs_range, val_acc, label='Validation Accuracy')\n",
        "plt.legend(loc='lower right')\n",
        "plt.title('Training and Validation Accuracy')\n",
        "\n",
        "plt.subplot(1, 2, 2)\n",
        "plt.plot(epochs_range, loss, label='Training Loss')\n",
        "plt.plot(epochs_range, val_loss, label='Validation Loss')\n",
        "plt.legend(loc='upper right')\n",
        "plt.title('Training and Validation Loss')\n",
        "plt.show()\n",
        "\n",
        "# class LossHistory(keras.callbacks.Callback):\n",
        "#     def on_train_begin(self, logs={}):\n",
        "#         self.losses = []\n",
        "\n",
        "#     def on_batch_end(self, batch, logs={}):\n",
        "#         self.losses.append(logs.get('loss'))"
      ],
      "execution_count": 0,
      "outputs": []
    },
    {
      "cell_type": "code",
      "metadata": {
        "trusted": true,
        "id": "BiG3i3VcYyKD",
        "colab_type": "code",
        "colab": {}
      },
      "source": [
        "savepickle(\"history_only.h5\",history)"
      ],
      "execution_count": 0,
      "outputs": []
    }
  ]
}